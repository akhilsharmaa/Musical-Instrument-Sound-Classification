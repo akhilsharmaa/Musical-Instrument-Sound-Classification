{
 "cells": [
  {
   "cell_type": "code",
   "execution_count": 1,
   "metadata": {},
   "outputs": [],
   "source": [
    "import os\n",
    "import torch \n",
    "import torchaudio\n",
    "import pandas as pd\n",
    "import numpy as np\n",
    "from torch.utils.data import Dataset\n",
    "from torch import nn"
   ]
  },
  {
   "cell_type": "code",
   "execution_count": 27,
   "metadata": {},
   "outputs": [],
   "source": [
    "class Musical_Dataset(Dataset):\n",
    "    \n",
    "    def __init__(self, annotations_file, audio_dir, transform=None):\n",
    "        self.annotations_file = annotations_file\n",
    "        self.audio_dir = audio_dir\n",
    "        self.transform  = transform\n",
    "        \n",
    "    def __len__(self):\n",
    "        return len(self.annotations_file)\n",
    "\n",
    "    def __getitem__(self, idx):\n",
    "        \n",
    "        label = self.annotations_file.iloc[idx, 1]\n",
    "        \n",
    "        audio_path = os.path.join(self.audio_dir, self.annotations_file.iloc[idx, 0])\n",
    "        audio, sr = torchaudio.load(audio_path)\n",
    "        \n",
    "        \n",
    "        \n",
    "        return audio, label"
   ]
  },
  {
   "cell_type": "code",
   "execution_count": 28,
   "metadata": {},
   "outputs": [
    {
     "data": {
      "text/html": [
       "<div>\n",
       "<style scoped>\n",
       "    .dataframe tbody tr th:only-of-type {\n",
       "        vertical-align: middle;\n",
       "    }\n",
       "\n",
       "    .dataframe tbody tr th {\n",
       "        vertical-align: top;\n",
       "    }\n",
       "\n",
       "    .dataframe thead th {\n",
       "        text-align: right;\n",
       "    }\n",
       "</style>\n",
       "<table border=\"1\" class=\"dataframe\">\n",
       "  <thead>\n",
       "    <tr style=\"text-align: right;\">\n",
       "      <th></th>\n",
       "      <th>FileName</th>\n",
       "      <th>Class</th>\n",
       "    </tr>\n",
       "  </thead>\n",
       "  <tbody>\n",
       "    <tr>\n",
       "      <th>0</th>\n",
       "      <td>0_1-E1-Major 00.wav</td>\n",
       "      <td>Sound_Guitar</td>\n",
       "    </tr>\n",
       "    <tr>\n",
       "      <th>1</th>\n",
       "      <td>1_1-E1-Major 00.wav</td>\n",
       "      <td>Sound_Guitar</td>\n",
       "    </tr>\n",
       "    <tr>\n",
       "      <th>2</th>\n",
       "      <td>0_1-E1-Major 01.wav</td>\n",
       "      <td>Sound_Guitar</td>\n",
       "    </tr>\n",
       "    <tr>\n",
       "      <th>3</th>\n",
       "      <td>1_1-E1-Major 01.wav</td>\n",
       "      <td>Sound_Guitar</td>\n",
       "    </tr>\n",
       "    <tr>\n",
       "      <th>4</th>\n",
       "      <td>0_1-E1-Major 02.wav</td>\n",
       "      <td>Sound_Guitar</td>\n",
       "    </tr>\n",
       "    <tr>\n",
       "      <th>...</th>\n",
       "      <td>...</td>\n",
       "      <td>...</td>\n",
       "    </tr>\n",
       "    <tr>\n",
       "      <th>31601</th>\n",
       "      <td>40_ROOM_room1_MUS_beethoven2_DEV_stereomic.wav</td>\n",
       "      <td>Sound_Piano</td>\n",
       "    </tr>\n",
       "    <tr>\n",
       "      <th>31602</th>\n",
       "      <td>41_ROOM_room1_MUS_beethoven2_DEV_stereomic.wav</td>\n",
       "      <td>Sound_Piano</td>\n",
       "    </tr>\n",
       "    <tr>\n",
       "      <th>31603</th>\n",
       "      <td>42_ROOM_room1_MUS_beethoven2_DEV_stereomic.wav</td>\n",
       "      <td>Sound_Piano</td>\n",
       "    </tr>\n",
       "    <tr>\n",
       "      <th>31604</th>\n",
       "      <td>43_ROOM_room1_MUS_beethoven2_DEV_stereomic.wav</td>\n",
       "      <td>Sound_Piano</td>\n",
       "    </tr>\n",
       "    <tr>\n",
       "      <th>31605</th>\n",
       "      <td>44_ROOM_room1_MUS_beethoven2_DEV_stereomic.wav</td>\n",
       "      <td>Sound_Piano</td>\n",
       "    </tr>\n",
       "  </tbody>\n",
       "</table>\n",
       "<p>10000 rows × 2 columns</p>\n",
       "</div>"
      ],
      "text/plain": [
       "                                             FileName         Class\n",
       "0                                 0_1-E1-Major 00.wav  Sound_Guitar\n",
       "1                                 1_1-E1-Major 00.wav  Sound_Guitar\n",
       "2                                 0_1-E1-Major 01.wav  Sound_Guitar\n",
       "3                                 1_1-E1-Major 01.wav  Sound_Guitar\n",
       "4                                 0_1-E1-Major 02.wav  Sound_Guitar\n",
       "...                                               ...           ...\n",
       "31601  40_ROOM_room1_MUS_beethoven2_DEV_stereomic.wav   Sound_Piano\n",
       "31602  41_ROOM_room1_MUS_beethoven2_DEV_stereomic.wav   Sound_Piano\n",
       "31603  42_ROOM_room1_MUS_beethoven2_DEV_stereomic.wav   Sound_Piano\n",
       "31604  43_ROOM_room1_MUS_beethoven2_DEV_stereomic.wav   Sound_Piano\n",
       "31605  44_ROOM_room1_MUS_beethoven2_DEV_stereomic.wav   Sound_Piano\n",
       "\n",
       "[10000 rows x 2 columns]"
      ]
     },
     "execution_count": 28,
     "metadata": {},
     "output_type": "execute_result"
    }
   ],
   "source": [
    "AUDIO_PATH = \"/Users/akhilsharma/Datasets/Musical_Instrument/New_Train/audio\"\n",
    "METADATA_PATH = \"/Users/akhilsharma/Datasets/Musical_Instrument/New_Train/metadata.csv\"\n",
    "SAMPLE_OF_EACH_CLASS = 2500\n",
    "\n",
    "labels_csv = pd.read_csv(METADATA_PATH, index_col=False)\n",
    "labels_csv\n",
    "\n",
    "Sound_Guitar_DF = labels_csv[labels_csv.Class == \"Sound_Guitar\"][:SAMPLE_OF_EACH_CLASS]\n",
    "Sound_Drum_DF = labels_csv[labels_csv.Class == \"Sound_Drum\"][:SAMPLE_OF_EACH_CLASS]\n",
    "Sound_Violin_DF = labels_csv[labels_csv.Class == \"Sound_Violin\"][:SAMPLE_OF_EACH_CLASS]\n",
    "Sound_Piano_DF = labels_csv[labels_csv.Class == \"Sound_Piano\"][:SAMPLE_OF_EACH_CLASS]\n",
    "\n",
    "train_df = pd.concat([Sound_Guitar_DF, Sound_Drum_DF, Sound_Violin_DF, Sound_Piano_DF], axis=0)\n",
    "train_df = concatenated_df[[\"FileName\", \"Class\"]]\n",
    "train_df"
   ]
  },
  {
   "cell_type": "code",
   "execution_count": 29,
   "metadata": {},
   "outputs": [],
   "source": [
    "#! create a object of Musical_Dataset \n",
    "musical_dataloader = Musical_Dataset(annotations_file=train_df, \n",
    "                      audio_dir=AUDIO_PATH)"
   ]
  },
  {
   "cell_type": "code",
   "execution_count": 38,
   "metadata": {},
   "outputs": [
    {
     "data": {
      "text/plain": [
       "(tensor([[-0.0001, -0.0003, -0.0004,  ..., -0.0298, -0.0098,  0.0026]]),\n",
       " 'Sound_Guitar')"
      ]
     },
     "execution_count": 38,
     "metadata": {},
     "output_type": "execute_result"
    }
   ],
   "source": [
    "musical_dataloader[0][0], musical_dataloader[0][1] "
   ]
  },
  {
   "cell_type": "code",
   "execution_count": 39,
   "metadata": {},
   "outputs": [],
   "source": [
    "from torch.utils.data import DataLoader\n",
    "\n",
    "train_dataloader = DataLoader(musical_dataloader, batch_size=128, shuffle=True)"
   ]
  },
  {
   "cell_type": "code",
   "execution_count": 68,
   "metadata": {},
   "outputs": [],
   "source": [
    "import torchaudio.transforms as transforms\n",
    "import matplotlib.pyplot as plt\n",
    "\n",
    "def plot_mfcc(audio_signal):\n",
    "        \n",
    "    # Assuming you have an audio signal called audio_signal with length 8000 and sample rate 8000\n",
    "    waveform = torch.Tensor(audio_signal)\n",
    "\n",
    "    # Convert the audio waveform to MFCCs\n",
    "    transform = transforms.MFCC(\n",
    "        sample_rate=8000,\n",
    "        n_mfcc=10\n",
    "    )\n",
    "    \n",
    "    mfcc = transform(waveform)\n",
    "\n",
    "    print(mfcc.shape)\n",
    "\n",
    "    # Visualize the MFCCs\n",
    "    plt.figure(figsize=(10, 4))\n",
    "    plt.imshow(mfcc[0].detach().numpy(), cmap='hot', origin='lower', aspect='auto')\n",
    "    plt.colorbar(format='%+2.0f dB')\n",
    "    plt.title('MFCC')\n",
    "    plt.tight_layout()\n",
    "    plt.show()"
   ]
  },
  {
   "cell_type": "code",
   "execution_count": 72,
   "metadata": {},
   "outputs": [
    {
     "name": "stdout",
     "output_type": "stream",
     "text": [
      "torch.Size([1, 10, 41])\n"
     ]
    },
    {
     "data": {
      "image/png": "[encoded data removed]",
      "text/plain": [
       "<Figure size 1000x400 with 2 Axes>"
      ]
     },
     "metadata": {},
     "output_type": "display_data"
    }
   ],
   "source": [
    "plot_mfcc(musical_dataloader[1970][0])"
   ]
  },
  {
   "cell_type": "code",
   "execution_count": null,
   "metadata": {},
   "outputs": [],
   "source": []
  }
 ],
 "metadata": {
  "kernelspec": {
   "display_name": "computervision-keras-UtGWNFWe",
   "language": "python",
   "name": "python3"
  },
  "language_info": {
   "codemirror_mode": {
    "name": "ipython",
    "version": 3
   },
   "file_extension": ".py",
   "mimetype": "text/x-python",
   "name": "python",
   "nbconvert_exporter": "python",
   "pygments_lexer": "ipython3",
   "version": "3.9.6"
  },
  "orig_nbformat": 4
 },
 "nbformat": 4,
 "nbformat_minor": 2
}
