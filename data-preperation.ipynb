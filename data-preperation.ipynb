{
 "cells": [
  {
   "attachments": {},
   "cell_type": "markdown",
   "metadata": {},
   "source": [
    "# Musical Instrument's Sound Classifier \n",
    "\n",
    "### Dataset : Kaggle's [Musical Instrument's Sound Dataset](https://www.kaggle.com/datasets/soumendraprasad/musical-instruments-sound-dataset) 7.2GB"
   ]
  },
  {
   "cell_type": "code",
   "execution_count": 39,
   "metadata": {},
   "outputs": [],
   "source": [
    "import os\n",
    "import torch \n",
    "import torchaudio\n",
    "import pandas as pd\n",
    "import numpy as np\n",
    "from torch.utils.data import Dataset\n",
    "from torch import nn"
   ]
  },
  {
   "cell_type": "code",
   "execution_count": 40,
   "metadata": {},
   "outputs": [
    {
     "data": {
      "text/plain": [
       "'\\nclass Musical_Dataset(Dataset):\\n    \\n    def __init__(self, annotations_file, audio_dir, transform=None):\\n        self.annotations_file = annotations_file\\n        self.audio_dir = audio_dir\\n        self.transform  = transform\\n        \\n    def __len__(self):\\n        return len(self.annotations_file)\\n\\n    def __getitem__(self, idx):\\n        \\n        label = self.annotations_file.iloc[idx, 1]\\n        \\n        audio_path = os.path.join(self.audio_dir, self.annotations_file.iloc[idx, 0])\\n        audio, sr = torchaudio.load(audio_path)\\n        \\n        return audio, label\\n'"
      ]
     },
     "execution_count": 40,
     "metadata": {},
     "output_type": "execute_result"
    }
   ],
   "source": [
    "'''\n",
    "class Musical_Dataset(Dataset):\n",
    "    \n",
    "    def __init__(self, annotations_file, audio_dir, transform=None):\n",
    "        self.annotations_file = annotations_file\n",
    "        self.audio_dir = audio_dir\n",
    "        self.transform  = transform\n",
    "        \n",
    "    def __len__(self):\n",
    "        return len(self.annotations_file)\n",
    "\n",
    "    def __getitem__(self, idx):\n",
    "        \n",
    "        label = self.annotations_file.iloc[idx, 1]\n",
    "        \n",
    "        audio_path = os.path.join(self.audio_dir, self.annotations_file.iloc[idx, 0])\n",
    "        audio, sr = torchaudio.load(audio_path)\n",
    "        \n",
    "        return audio, label\n",
    "'''"
   ]
  },
  {
   "cell_type": "code",
   "execution_count": 41,
   "metadata": {},
   "outputs": [
    {
     "data": {
      "text/html": [
       "<div>\n",
       "<style scoped>\n",
       "    .dataframe tbody tr th:only-of-type {\n",
       "        vertical-align: middle;\n",
       "    }\n",
       "\n",
       "    .dataframe tbody tr th {\n",
       "        vertical-align: top;\n",
       "    }\n",
       "\n",
       "    .dataframe thead th {\n",
       "        text-align: right;\n",
       "    }\n",
       "</style>\n",
       "<table border=\"1\" class=\"dataframe\">\n",
       "  <thead>\n",
       "    <tr style=\"text-align: right;\">\n",
       "      <th></th>\n",
       "      <th>FileName</th>\n",
       "      <th>Class</th>\n",
       "    </tr>\n",
       "  </thead>\n",
       "  <tbody>\n",
       "    <tr>\n",
       "      <th>0</th>\n",
       "      <td>1-E1-Major 00.wav</td>\n",
       "      <td>Sound_Guitar</td>\n",
       "    </tr>\n",
       "    <tr>\n",
       "      <th>1</th>\n",
       "      <td>1-E1-Major 01.wav</td>\n",
       "      <td>Sound_Guitar</td>\n",
       "    </tr>\n",
       "    <tr>\n",
       "      <th>2</th>\n",
       "      <td>1-E1-Major 02.wav</td>\n",
       "      <td>Sound_Guitar</td>\n",
       "    </tr>\n",
       "    <tr>\n",
       "      <th>3</th>\n",
       "      <td>1-E1-Major 03.wav</td>\n",
       "      <td>Sound_Guitar</td>\n",
       "    </tr>\n",
       "    <tr>\n",
       "      <th>4</th>\n",
       "      <td>1-E1-Major 04.wav</td>\n",
       "      <td>Sound_Guitar</td>\n",
       "    </tr>\n",
       "    <tr>\n",
       "      <th>...</th>\n",
       "      <td>...</td>\n",
       "      <td>...</td>\n",
       "    </tr>\n",
       "    <tr>\n",
       "      <th>2624</th>\n",
       "      <td>strange-piano-73881.wav</td>\n",
       "      <td>Sound_Piano</td>\n",
       "    </tr>\n",
       "    <tr>\n",
       "      <th>2625</th>\n",
       "      <td>the-last-piano-112677.wav</td>\n",
       "      <td>Sound_Piano</td>\n",
       "    </tr>\n",
       "    <tr>\n",
       "      <th>2626</th>\n",
       "      <td>this-is-war-version-e-95411.wav</td>\n",
       "      <td>Sound_Piano</td>\n",
       "    </tr>\n",
       "    <tr>\n",
       "      <th>2627</th>\n",
       "      <td>tired-ghosts-piano-65013.wav</td>\n",
       "      <td>Sound_Piano</td>\n",
       "    </tr>\n",
       "    <tr>\n",
       "      <th>2628</th>\n",
       "      <td>toy-piano-27311.wav</td>\n",
       "      <td>Sound_Piano</td>\n",
       "    </tr>\n",
       "  </tbody>\n",
       "</table>\n",
       "<p>2629 rows × 2 columns</p>\n",
       "</div>"
      ],
      "text/plain": [
       "                             FileName         Class\n",
       "0                   1-E1-Major 00.wav  Sound_Guitar\n",
       "1                   1-E1-Major 01.wav  Sound_Guitar\n",
       "2                   1-E1-Major 02.wav  Sound_Guitar\n",
       "3                   1-E1-Major 03.wav  Sound_Guitar\n",
       "4                   1-E1-Major 04.wav  Sound_Guitar\n",
       "...                               ...           ...\n",
       "2624          strange-piano-73881.wav   Sound_Piano\n",
       "2625        the-last-piano-112677.wav   Sound_Piano\n",
       "2626  this-is-war-version-e-95411.wav   Sound_Piano\n",
       "2627     tired-ghosts-piano-65013.wav   Sound_Piano\n",
       "2628              toy-piano-27311.wav   Sound_Piano\n",
       "\n",
       "[2629 rows x 2 columns]"
      ]
     },
     "execution_count": 41,
     "metadata": {},
     "output_type": "execute_result"
    }
   ],
   "source": [
    "root_path = \"/Users/akhilsharma/Datasets/Musical_Instrument\"\n",
    "audio_dir = os.path.join(root_path, 'Train_submission', 'Train_submission')\n",
    "labels_csv = pd.read_csv(root_path + \"/Metadata_Train.csv\")\n",
    "\n",
    "labels_csv"
   ]
  },
  {
   "cell_type": "code",
   "execution_count": 42,
   "metadata": {},
   "outputs": [],
   "source": [
    "# mds = Musical_Dataset(annotations_file=labels_csv, \n",
    "#                       audio_dir=audio_dir)"
   ]
  },
  {
   "attachments": {},
   "cell_type": "markdown",
   "metadata": {},
   "source": [
    "## DIVIDING THE AUDIO IN CHUNKS \n",
    "we will break the audio in chunks and save them to the new location and also reduce the size of original dataset to train the model using small number of data\n",
    "\n",
    "- Reducing/Converting all the audio in `8000` sample-rate \n",
    "- Converting all mono audio into `single-channel` audio \n",
    "- dividing all the audio in `1-SECOND`  of audio"
   ]
  },
  {
   "cell_type": "code",
   "execution_count": 43,
   "metadata": {},
   "outputs": [
    {
     "data": {
      "text/html": [
       "<div>\n",
       "<style scoped>\n",
       "    .dataframe tbody tr th:only-of-type {\n",
       "        vertical-align: middle;\n",
       "    }\n",
       "\n",
       "    .dataframe tbody tr th {\n",
       "        vertical-align: top;\n",
       "    }\n",
       "\n",
       "    .dataframe thead th {\n",
       "        text-align: right;\n",
       "    }\n",
       "</style>\n",
       "<table border=\"1\" class=\"dataframe\">\n",
       "  <thead>\n",
       "    <tr style=\"text-align: right;\">\n",
       "      <th></th>\n",
       "      <th>FileName</th>\n",
       "      <th>Class</th>\n",
       "    </tr>\n",
       "  </thead>\n",
       "  <tbody>\n",
       "  </tbody>\n",
       "</table>\n",
       "</div>"
      ],
      "text/plain": [
       "Empty DataFrame\n",
       "Columns: [FileName, Class]\n",
       "Index: []"
      ]
     },
     "execution_count": 43,
     "metadata": {},
     "output_type": "execute_result"
    }
   ],
   "source": [
    "REQUIRED_SAMPLE_RATE = 8000\n",
    "REQUIRED_DURATION_SECOND = 1\n",
    "\n",
    "AUDIO_CHUNKS_DESTINATION_PATH = \"/Users/akhilsharma/Datasets/Musical_Instrument/New_Train/audio\"\n",
    "METADATA_CHUNKS_CSV_DESTINATION_PATH = \"/Users/akhilsharma/Datasets/Musical_Instrument/New_Train/metadata.csv\"\n",
    "\n",
    "target_csv = pd.read_csv(METADATA_CHUNKS_CSV_DESTINATION_PATH)\n",
    "target_csv.head()"
   ]
  },
  {
   "cell_type": "code",
   "execution_count": 44,
   "metadata": {},
   "outputs": [],
   "source": [
    "## Create a empty CSV file\n",
    "target_csv = pd.read_csv(METADATA_CHUNKS_CSV_DESTINATION_PATH)\n",
    "\n",
    "new_data = {\n",
    "    'FileName': [],\n",
    "    'Class': []\n",
    "}\n",
    "    \n",
    "new_data = pd.DataFrame(new_data)\n",
    "new_data.to_csv(METADATA_CHUNKS_CSV_DESTINATION_PATH, index=False)"
   ]
  },
  {
   "cell_type": "code",
   "execution_count": 45,
   "metadata": {},
   "outputs": [],
   "source": [
    "def divide_single_audio_and_save(signal, sr, audio_name, label):\n",
    "\n",
    "    signal = resample_to_8K(signal, sr)\n",
    "    signal = merge_if_required(signal) \n",
    "    cnt = 0\n",
    "    \n",
    "    NO_OF_TOTAL_SAMPLES = REQUIRED_SAMPLE_RATE * REQUIRED_DURATION_SECOND\n",
    "    \n",
    "    for idx in range(0, signal.shape[1], NO_OF_TOTAL_SAMPLES):\n",
    "        audio_part = signal[:, idx: idx+NO_OF_TOTAL_SAMPLES]\n",
    "        \n",
    "        if audio_part.shape[1] == NO_OF_TOTAL_SAMPLES: \n",
    "            \n",
    "            # save the audio file\n",
    "            save(signal=audio_part,  \n",
    "                audio_name= audio_name, \n",
    "                index = cnt, \n",
    "                label=label\n",
    "            )\n",
    "            \n",
    "            cnt += 1\n",
    "            \n",
    "    return audio\n",
    "\n",
    "\n",
    "def save(signal, index, audio_name, label):\n",
    "    \n",
    "    audio_name = str(index) + \"_\" + audio_name    \n",
    "    destination_path = os.path.join(AUDIO_CHUNKS_DESTINATION_PATH, audio_name)\n",
    "    torchaudio.save(destination_path , signal, sample_rate=REQUIRED_SAMPLE_RATE)\n",
    "\n",
    "\n",
    "    # save the label to csv\n",
    "    save_metadata(filename=audio_name, \n",
    "                  label=label)\n",
    "    \n",
    "def save_metadata(filename, label):\n",
    "        \n",
    "    target_csv = pd.read_csv(METADATA_CHUNKS_CSV_DESTINATION_PATH)\n",
    "    \n",
    "    new_data = { \n",
    "        'FileName': [filename],\n",
    "        'Class': [label]\n",
    "    }\n",
    "    \n",
    "    new_data = pd.DataFrame(new_data)\n",
    "    updated_df = pd.concat([target_csv, new_data], ignore_index=True)\n",
    "    updated_df.to_csv(METADATA_CHUNKS_CSV_DESTINATION_PATH, index=False)\n",
    "\n",
    "\n",
    "def resample_to_8K(audio, sr):\n",
    "    \"\"\"\n",
    "    Resample an audio signal to the (8000) required sample rate.\n",
    "    \"\"\"\n",
    "    audio = torchaudio.functional.resample(audio, orig_freq=sr, new_freq=REQUIRED_SAMPLE_RATE)\n",
    "    return audio\n",
    "\n",
    "def merge_if_required(audio):\n",
    "    \"\"\" \n",
    "    Merge an audio signal if it has multiple channels. \n",
    "    \"\"\"\n",
    "    if audio.shape[0] > 1:\n",
    "        audio = torch.mean(audio, dim=0, keepdim=True)\n",
    "    return audio"
   ]
  },
  {
   "attachments": {},
   "cell_type": "markdown",
   "metadata": {},
   "source": [
    "Iterate over every audio and **'Divide the audio-files and save it in the new directory with their metadata'**"
   ]
  },
  {
   "cell_type": "code",
   "execution_count": 46,
   "metadata": {},
   "outputs": [
    {
     "name": "stderr",
     "output_type": "stream",
     "text": [
      "100%|██████████| 2629/2629 [25:28<00:00,  1.72it/s]\n"
     ]
    }
   ],
   "source": [
    "from tqdm import tqdm\n",
    "\n",
    "TOTAL_DATASET = len(labels_csv)\n",
    "# TOTAL_DATASET = 2\n",
    "\n",
    "for idx in tqdm(range(TOTAL_DATASET)): \n",
    "    \n",
    "    audio_name = labels_csv.iloc[idx, 0] # audio (eg. file_name.wav)\n",
    "    label = labels_csv.iloc[idx, 1] # label (eg. \"Sound_Guitar\")\n",
    "    \n",
    "    audio_path = os.path.join(audio_dir, audio_name) \n",
    "    audio, sr = torchaudio.load(audio_path)\n",
    "    \n",
    "    #? Divide the audio and save it in the new directory with their metadata \n",
    "    divide_single_audio_and_save(audio, sr, audio_name, label)"
   ]
  },
  {
   "cell_type": "code",
   "execution_count": 82,
   "metadata": {},
   "outputs": [
    {
     "data": {
      "text/html": [
       "<div>\n",
       "<style scoped>\n",
       "    .dataframe tbody tr th:only-of-type {\n",
       "        vertical-align: middle;\n",
       "    }\n",
       "\n",
       "    .dataframe tbody tr th {\n",
       "        vertical-align: top;\n",
       "    }\n",
       "\n",
       "    .dataframe thead th {\n",
       "        text-align: right;\n",
       "    }\n",
       "</style>\n",
       "<table border=\"1\" class=\"dataframe\">\n",
       "  <thead>\n",
       "    <tr style=\"text-align: right;\">\n",
       "      <th></th>\n",
       "      <th>FileName</th>\n",
       "      <th>Class</th>\n",
       "    </tr>\n",
       "  </thead>\n",
       "  <tbody>\n",
       "    <tr>\n",
       "      <th>0</th>\n",
       "      <td>0_1-E1-Major 00.wav</td>\n",
       "      <td>Sound_Guitar</td>\n",
       "    </tr>\n",
       "    <tr>\n",
       "      <th>1</th>\n",
       "      <td>1_1-E1-Major 00.wav</td>\n",
       "      <td>Sound_Guitar</td>\n",
       "    </tr>\n",
       "    <tr>\n",
       "      <th>2</th>\n",
       "      <td>0_1-E1-Major 01.wav</td>\n",
       "      <td>Sound_Guitar</td>\n",
       "    </tr>\n",
       "    <tr>\n",
       "      <th>3</th>\n",
       "      <td>1_1-E1-Major 01.wav</td>\n",
       "      <td>Sound_Guitar</td>\n",
       "    </tr>\n",
       "    <tr>\n",
       "      <th>4</th>\n",
       "      <td>0_1-E1-Major 02.wav</td>\n",
       "      <td>Sound_Guitar</td>\n",
       "    </tr>\n",
       "    <tr>\n",
       "      <th>...</th>\n",
       "      <td>...</td>\n",
       "      <td>...</td>\n",
       "    </tr>\n",
       "    <tr>\n",
       "      <th>45826</th>\n",
       "      <td>9_toy-piano-27311.wav</td>\n",
       "      <td>Sound_Piano</td>\n",
       "    </tr>\n",
       "    <tr>\n",
       "      <th>45827</th>\n",
       "      <td>10_toy-piano-27311.wav</td>\n",
       "      <td>Sound_Piano</td>\n",
       "    </tr>\n",
       "    <tr>\n",
       "      <th>45828</th>\n",
       "      <td>11_toy-piano-27311.wav</td>\n",
       "      <td>Sound_Piano</td>\n",
       "    </tr>\n",
       "    <tr>\n",
       "      <th>45829</th>\n",
       "      <td>12_toy-piano-27311.wav</td>\n",
       "      <td>Sound_Piano</td>\n",
       "    </tr>\n",
       "    <tr>\n",
       "      <th>45830</th>\n",
       "      <td>13_toy-piano-27311.wav</td>\n",
       "      <td>Sound_Piano</td>\n",
       "    </tr>\n",
       "  </tbody>\n",
       "</table>\n",
       "<p>45831 rows × 2 columns</p>\n",
       "</div>"
      ],
      "text/plain": [
       "                     FileName         Class\n",
       "0         0_1-E1-Major 00.wav  Sound_Guitar\n",
       "1         1_1-E1-Major 00.wav  Sound_Guitar\n",
       "2         0_1-E1-Major 01.wav  Sound_Guitar\n",
       "3         1_1-E1-Major 01.wav  Sound_Guitar\n",
       "4         0_1-E1-Major 02.wav  Sound_Guitar\n",
       "...                       ...           ...\n",
       "45826   9_toy-piano-27311.wav   Sound_Piano\n",
       "45827  10_toy-piano-27311.wav   Sound_Piano\n",
       "45828  11_toy-piano-27311.wav   Sound_Piano\n",
       "45829  12_toy-piano-27311.wav   Sound_Piano\n",
       "45830  13_toy-piano-27311.wav   Sound_Piano\n",
       "\n",
       "[45831 rows x 2 columns]"
      ]
     },
     "execution_count": 82,
     "metadata": {},
     "output_type": "execute_result"
    }
   ],
   "source": [
    "new_metadata_df = pd.read_csv(METADATA_CHUNKS_CSV_DESTINATION_PATH)\n",
    "new_metadata_df"
   ]
  },
  {
   "cell_type": "code",
   "execution_count": 83,
   "metadata": {},
   "outputs": [
    {
     "name": "stdout",
     "output_type": "stream",
     "text": [
      "Total Audio files available :  36129\n"
     ]
    },
    {
     "data": {
      "text/plain": [
       "['31_classical_1_60BPM.wav',\n",
       " '29_ROOM_room7_MUS_scale_DEV_stereomic.wav',\n",
       " '2_WaveDrum02_45SD (6).wav',\n",
       " '14_ROOM_room3_MUS_pachelbel_DEV_lg.wav',\n",
       " '12_ROOM_room5_MUS_scale_DEV_iphone.wav',\n",
       " '9_ROOM_room5_MUS_bartok_DEV_lg.wav',\n",
       " '11_WaveDrum02_39KD (116).wav',\n",
       " '1_WaveDrum02_39KD (6).wav',\n",
       " '13_ROOM_room4_MUS_swing_DEV_iphone.wav',\n",
       " '10_dr-tribal-percussion-triplet-loop-high-passed-106bpm-25935.wav']"
      ]
     },
     "execution_count": 83,
     "metadata": {},
     "output_type": "execute_result"
    }
   ],
   "source": [
    "files = os.listdir(AUDIO_CHUNKS_DESTINATION_PATH)\n",
    "print(\"Total Audio files available : \", len(files))\n",
    "files[:10]"
   ]
  },
  {
   "cell_type": "code",
   "execution_count": 84,
   "metadata": {},
   "outputs": [
    {
     "name": "stdout",
     "output_type": "stream",
     "text": [
      "<class 'pandas.core.frame.DataFrame'>\n",
      "RangeIndex: 45831 entries, 0 to 45830\n",
      "Data columns (total 2 columns):\n",
      " #   Column    Non-Null Count  Dtype \n",
      "---  ------    --------------  ----- \n",
      " 0   FileName  45831 non-null  object\n",
      " 1   Class     45831 non-null  object\n",
      "dtypes: object(2)\n",
      "memory usage: 716.2+ KB\n"
     ]
    }
   ],
   "source": [
    "new_metadata_df.info()"
   ]
  },
  {
   "cell_type": "code",
   "execution_count": 85,
   "metadata": {},
   "outputs": [
    {
     "data": {
      "text/plain": [
       "array(['Sound_Guitar', 'Sound_Drum', 'Sound_Violin', 'Sound_Piano'],\n",
       "      dtype=object)"
      ]
     },
     "execution_count": 85,
     "metadata": {},
     "output_type": "execute_result"
    }
   ],
   "source": [
    "new_metadata_df[\"Class\"].unique()"
   ]
  },
  {
   "cell_type": "code",
   "execution_count": 93,
   "metadata": {},
   "outputs": [
    {
     "data": {
      "text/plain": [
       "{'Sound_Guitar': 9722,\n",
       " 'Sound_Drum': 9692,\n",
       " 'Sound_Violin': 9692,\n",
       " 'Sound_Piano': 16725}"
      ]
     },
     "execution_count": 93,
     "metadata": {},
     "output_type": "execute_result"
    }
   ],
   "source": [
    "mp = {\"Sound_Guitar\":0,  'Sound_Drum':0 , 'Sound_Violin':0, 'Sound_Piano':0}\n",
    "for i in ls: \n",
    "    mp[i] = mp[i] + 1\n",
    "mp"
   ]
  },
  {
   "cell_type": "code",
   "execution_count": 89,
   "metadata": {},
   "outputs": [
    {
     "name": "stdout",
     "output_type": "stream",
     "text": [
      "FileName    0\n",
      "Class       0\n",
      "dtype: int64\n"
     ]
    }
   ],
   "source": [
    "# Check for missing values\n",
    "print(new_metadata_df.isnull().sum())"
   ]
  },
  {
   "cell_type": "code",
   "execution_count": 92,
   "metadata": {},
   "outputs": [
    {
     "name": "stdout",
     "output_type": "stream",
     "text": [
      "Total Audio files available :  36129\n"
     ]
    },
    {
     "data": {
      "text/plain": [
       "['31_classical_1_60BPM.wav',\n",
       " '29_ROOM_room7_MUS_scale_DEV_stereomic.wav',\n",
       " '2_WaveDrum02_45SD (6).wav',\n",
       " '14_ROOM_room3_MUS_pachelbel_DEV_lg.wav',\n",
       " '12_ROOM_room5_MUS_scale_DEV_iphone.wav']"
      ]
     },
     "execution_count": 92,
     "metadata": {},
     "output_type": "execute_result"
    }
   ],
   "source": [
    "files_in_dir = os.listdir(AUDIO_CHUNKS_DESTINATION_PATH)\n",
    "\n",
    "print(\"Total Audio files available : \", len(files))\n",
    "files[:5]"
   ]
  },
  {
   "cell_type": "code",
   "execution_count": 108,
   "metadata": {},
   "outputs": [],
   "source": [
    "Sound_Guitar_DF = new_metadata_df[new_metadata_df.Class == \"Sound_Guitar\"]"
   ]
  },
  {
   "cell_type": "code",
   "execution_count": null,
   "metadata": {},
   "outputs": [],
   "source": [
    "Sound_Drum_DF = new_metadata_df[new_metadata_df.Class == \"Sound_Drum\"]"
   ]
  },
  {
   "cell_type": "code",
   "execution_count": 104,
   "metadata": {},
   "outputs": [],
   "source": [
    "Sound_Violin_DF = new_metadata_df[new_metadata_df.Class == \"Sound_Violin\"]"
   ]
  },
  {
   "cell_type": "code",
   "execution_count": 105,
   "metadata": {},
   "outputs": [],
   "source": [
    "Sound_Piano_DF = new_metadata_df[new_metadata_df.Class == \"Sound_Piano\"]"
   ]
  }
 ],
 "metadata": {
  "kernelspec": {
   "display_name": "computervision-keras-UtGWNFWe",
   "language": "python",
   "name": "python3"
  },
  "language_info": {
   "codemirror_mode": {
    "name": "ipython",
    "version": 3
   },
   "file_extension": ".py",
   "mimetype": "text/x-python",
   "name": "python",
   "nbconvert_exporter": "python",
   "pygments_lexer": "ipython3",
   "version": "3.9.6"
  },
  "orig_nbformat": 4
 },
 "nbformat": 4,
 "nbformat_minor": 2
}
